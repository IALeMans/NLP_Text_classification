{
  "nbformat": 4,
  "nbformat_minor": 0,
  "metadata": {
    "colab": {
      "name": "NLP_basics_of_text_transformation.ipynb",
      "version": "0.3.2",
      "provenance": [],
      "collapsed_sections": []
    },
    "kernelspec": {
      "name": "python3",
      "display_name": "Python 3"
    }
  },
  "cells": [
    {
      "cell_type": "markdown",
      "metadata": {
        "id": "4ZhlVQasARBR",
        "colab_type": "text"
      },
      "source": [
        "# classification de texte\n",
        "- labelliser données non structurées\n",
        "- analyse de sentiment\n",
        "- etiquetage de sujets\n",
        "- detection de langue\n",
        "- detection d'intention\n",
        "- MKT : voix du client, surveillance de marque etc...\n",
        "\n",
        "# annotation \n",
        "- manuelle\n",
        "- automatique\n",
        "\n",
        "## annotation automatique\n",
        "- à base de règle\n",
        "- apprentissage automatique\n",
        "\n",
        "## apprentissage automatique\n",
        "- naive bayes\n",
        "- support vector machine\n",
        "- deep learning\n",
        "\n",
        "## transformation des mots\n",
        "- representation numérique sous formes de vecteures\n",
        "- sacs de mots\n",
        "- word2vec\n",
        "- par extension doc2vec, item2vec\n",
        "\n",
        "# apprentissage automatique profond\n",
        "- RNN (réseaux à mémoire)\n",
        "- LSTM (bidirectionnal LSTM)\n",
        "- ELMo (embeddings from Langage Models)\n",
        "- CNN \n",
        "- Attention Model (Transformer Architecture)\n",
        "- Transfer Learning (ULMFit Fast.ai)\n",
        "- BERT : Bidirectional Encoder Representations from Transformers\n"
      ]
    },
    {
      "cell_type": "markdown",
      "metadata": {
        "id": "Dx3cYsfhCDK-",
        "colab_type": "text"
      },
      "source": [
        "# Transformation des textes\n",
        "- clean Text\n",
        "- tokenization\n",
        "- construction du dictionnaire\n",
        "- vectorisation"
      ]
    },
    {
      "cell_type": "markdown",
      "metadata": {
        "id": "7uBvXVDkCrRw",
        "colab_type": "text"
      },
      "source": [
        "## Sacs de Mots"
      ]
    },
    {
      "cell_type": "code",
      "metadata": {
        "id": "Aa0Z6N0vEjl0",
        "colab_type": "code",
        "colab": {}
      },
      "source": [
        "import re\n",
        "import numpy"
      ],
      "execution_count": 0,
      "outputs": []
    },
    {
      "cell_type": "code",
      "metadata": {
        "id": "_MqSUjHWCAgn",
        "colab_type": "code",
        "colab": {}
      },
      "source": [
        "def word_extraction(sentence):    \n",
        "    ignore = ['a', \"the\", \"is\"]\n",
        "    words = re.sub(\"[^\\w]\", \" \",  sentence).split()\n",
        "    cleaned_text = [w.lower() for w in words if w not in ignore]\n",
        "    return cleaned_text"
      ],
      "execution_count": 0,
      "outputs": []
    },
    {
      "cell_type": "code",
      "metadata": {
        "id": "Dvej-FuQCOBS",
        "colab_type": "code",
        "outputId": "ab403d97-213d-4779-92f1-4f619237b7dc",
        "colab": {
          "base_uri": "https://localhost:8080/",
          "height": 3842
        }
      },
      "source": [
        "import nltk\n",
        "nltk.download(\"popular\")\n",
        "\n",
        "from nltk.corpus import stopwords \n",
        "set(stopwords.words('english'))"
      ],
      "execution_count": 0,
      "outputs": [
        {
          "output_type": "stream",
          "text": [
            "[nltk_data] Downloading collection 'popular'\n",
            "[nltk_data]    | \n",
            "[nltk_data]    | Downloading package cmudict to /root/nltk_data...\n",
            "[nltk_data]    |   Unzipping corpora/cmudict.zip.\n",
            "[nltk_data]    | Downloading package gazetteers to /root/nltk_data...\n",
            "[nltk_data]    |   Unzipping corpora/gazetteers.zip.\n",
            "[nltk_data]    | Downloading package genesis to /root/nltk_data...\n",
            "[nltk_data]    |   Unzipping corpora/genesis.zip.\n",
            "[nltk_data]    | Downloading package gutenberg to /root/nltk_data...\n",
            "[nltk_data]    |   Unzipping corpora/gutenberg.zip.\n",
            "[nltk_data]    | Downloading package inaugural to /root/nltk_data...\n",
            "[nltk_data]    |   Unzipping corpora/inaugural.zip.\n",
            "[nltk_data]    | Downloading package movie_reviews to\n",
            "[nltk_data]    |     /root/nltk_data...\n",
            "[nltk_data]    |   Unzipping corpora/movie_reviews.zip.\n",
            "[nltk_data]    | Downloading package names to /root/nltk_data...\n",
            "[nltk_data]    |   Unzipping corpora/names.zip.\n",
            "[nltk_data]    | Downloading package shakespeare to /root/nltk_data...\n",
            "[nltk_data]    |   Unzipping corpora/shakespeare.zip.\n",
            "[nltk_data]    | Downloading package stopwords to /root/nltk_data...\n",
            "[nltk_data]    |   Unzipping corpora/stopwords.zip.\n",
            "[nltk_data]    | Downloading package treebank to /root/nltk_data...\n",
            "[nltk_data]    |   Unzipping corpora/treebank.zip.\n",
            "[nltk_data]    | Downloading package twitter_samples to\n",
            "[nltk_data]    |     /root/nltk_data...\n",
            "[nltk_data]    |   Unzipping corpora/twitter_samples.zip.\n",
            "[nltk_data]    | Downloading package omw to /root/nltk_data...\n",
            "[nltk_data]    |   Unzipping corpora/omw.zip.\n",
            "[nltk_data]    | Downloading package wordnet to /root/nltk_data...\n",
            "[nltk_data]    |   Unzipping corpora/wordnet.zip.\n",
            "[nltk_data]    | Downloading package wordnet_ic to /root/nltk_data...\n",
            "[nltk_data]    |   Unzipping corpora/wordnet_ic.zip.\n",
            "[nltk_data]    | Downloading package words to /root/nltk_data...\n",
            "[nltk_data]    |   Unzipping corpora/words.zip.\n",
            "[nltk_data]    | Downloading package maxent_ne_chunker to\n",
            "[nltk_data]    |     /root/nltk_data...\n",
            "[nltk_data]    |   Unzipping chunkers/maxent_ne_chunker.zip.\n",
            "[nltk_data]    | Downloading package punkt to /root/nltk_data...\n",
            "[nltk_data]    |   Unzipping tokenizers/punkt.zip.\n",
            "[nltk_data]    | Downloading package snowball_data to\n",
            "[nltk_data]    |     /root/nltk_data...\n",
            "[nltk_data]    | Downloading package averaged_perceptron_tagger to\n",
            "[nltk_data]    |     /root/nltk_data...\n",
            "[nltk_data]    |   Unzipping taggers/averaged_perceptron_tagger.zip.\n",
            "[nltk_data]    | \n",
            "[nltk_data]  Done downloading collection popular\n"
          ],
          "name": "stdout"
        },
        {
          "output_type": "execute_result",
          "data": {
            "text/plain": [
              "{'a',\n",
              " 'about',\n",
              " 'above',\n",
              " 'after',\n",
              " 'again',\n",
              " 'against',\n",
              " 'ain',\n",
              " 'all',\n",
              " 'am',\n",
              " 'an',\n",
              " 'and',\n",
              " 'any',\n",
              " 'are',\n",
              " 'aren',\n",
              " \"aren't\",\n",
              " 'as',\n",
              " 'at',\n",
              " 'be',\n",
              " 'because',\n",
              " 'been',\n",
              " 'before',\n",
              " 'being',\n",
              " 'below',\n",
              " 'between',\n",
              " 'both',\n",
              " 'but',\n",
              " 'by',\n",
              " 'can',\n",
              " 'couldn',\n",
              " \"couldn't\",\n",
              " 'd',\n",
              " 'did',\n",
              " 'didn',\n",
              " \"didn't\",\n",
              " 'do',\n",
              " 'does',\n",
              " 'doesn',\n",
              " \"doesn't\",\n",
              " 'doing',\n",
              " 'don',\n",
              " \"don't\",\n",
              " 'down',\n",
              " 'during',\n",
              " 'each',\n",
              " 'few',\n",
              " 'for',\n",
              " 'from',\n",
              " 'further',\n",
              " 'had',\n",
              " 'hadn',\n",
              " \"hadn't\",\n",
              " 'has',\n",
              " 'hasn',\n",
              " \"hasn't\",\n",
              " 'have',\n",
              " 'haven',\n",
              " \"haven't\",\n",
              " 'having',\n",
              " 'he',\n",
              " 'her',\n",
              " 'here',\n",
              " 'hers',\n",
              " 'herself',\n",
              " 'him',\n",
              " 'himself',\n",
              " 'his',\n",
              " 'how',\n",
              " 'i',\n",
              " 'if',\n",
              " 'in',\n",
              " 'into',\n",
              " 'is',\n",
              " 'isn',\n",
              " \"isn't\",\n",
              " 'it',\n",
              " \"it's\",\n",
              " 'its',\n",
              " 'itself',\n",
              " 'just',\n",
              " 'll',\n",
              " 'm',\n",
              " 'ma',\n",
              " 'me',\n",
              " 'mightn',\n",
              " \"mightn't\",\n",
              " 'more',\n",
              " 'most',\n",
              " 'mustn',\n",
              " \"mustn't\",\n",
              " 'my',\n",
              " 'myself',\n",
              " 'needn',\n",
              " \"needn't\",\n",
              " 'no',\n",
              " 'nor',\n",
              " 'not',\n",
              " 'now',\n",
              " 'o',\n",
              " 'of',\n",
              " 'off',\n",
              " 'on',\n",
              " 'once',\n",
              " 'only',\n",
              " 'or',\n",
              " 'other',\n",
              " 'our',\n",
              " 'ours',\n",
              " 'ourselves',\n",
              " 'out',\n",
              " 'over',\n",
              " 'own',\n",
              " 're',\n",
              " 's',\n",
              " 'same',\n",
              " 'shan',\n",
              " \"shan't\",\n",
              " 'she',\n",
              " \"she's\",\n",
              " 'should',\n",
              " \"should've\",\n",
              " 'shouldn',\n",
              " \"shouldn't\",\n",
              " 'so',\n",
              " 'some',\n",
              " 'such',\n",
              " 't',\n",
              " 'than',\n",
              " 'that',\n",
              " \"that'll\",\n",
              " 'the',\n",
              " 'their',\n",
              " 'theirs',\n",
              " 'them',\n",
              " 'themselves',\n",
              " 'then',\n",
              " 'there',\n",
              " 'these',\n",
              " 'they',\n",
              " 'this',\n",
              " 'those',\n",
              " 'through',\n",
              " 'to',\n",
              " 'too',\n",
              " 'under',\n",
              " 'until',\n",
              " 'up',\n",
              " 've',\n",
              " 'very',\n",
              " 'was',\n",
              " 'wasn',\n",
              " \"wasn't\",\n",
              " 'we',\n",
              " 'were',\n",
              " 'weren',\n",
              " \"weren't\",\n",
              " 'what',\n",
              " 'when',\n",
              " 'where',\n",
              " 'which',\n",
              " 'while',\n",
              " 'who',\n",
              " 'whom',\n",
              " 'why',\n",
              " 'will',\n",
              " 'with',\n",
              " 'won',\n",
              " \"won't\",\n",
              " 'wouldn',\n",
              " \"wouldn't\",\n",
              " 'y',\n",
              " 'you',\n",
              " \"you'd\",\n",
              " \"you'll\",\n",
              " \"you're\",\n",
              " \"you've\",\n",
              " 'your',\n",
              " 'yours',\n",
              " 'yourself',\n",
              " 'yourselves'}"
            ]
          },
          "metadata": {
            "tags": []
          },
          "execution_count": 7
        }
      ]
    },
    {
      "cell_type": "code",
      "metadata": {
        "id": "h3ijSeQWCxX_",
        "colab_type": "code",
        "colab": {}
      },
      "source": [
        "def tokenize(sentences):    \n",
        "    words = []\n",
        "    for sentence in sentences:\n",
        "      w = word_extraction(sentence)\n",
        "      words.extend(w)\n",
        "    words = sorted(list(set(words)))\n",
        "    return words"
      ],
      "execution_count": 0,
      "outputs": []
    },
    {
      "cell_type": "code",
      "metadata": {
        "id": "n6SIIot8DQnV",
        "colab_type": "code",
        "colab": {}
      },
      "source": [
        "def generate_bow(allsentences):\n",
        "  vocab = tokenize(allsentences)\n",
        "  \n",
        "  print(\"Word List for Document \\n{0} \\n\".format(vocab));\n",
        "  \n",
        "  for sentence in allsentences:\n",
        "      words = word_extraction(sentence)\n",
        "      \n",
        "      bag_vector = numpy.zeros(len(vocab))\n",
        "      for w in words:\n",
        "          for i,word in enumerate(vocab):\n",
        "              if word == w:\n",
        "                  bag_vector[i] += 1\n",
        "      print(\"{0}\\n{1}\\n\".format(sentence,numpy.array(bag_vector)))"
      ],
      "execution_count": 0,
      "outputs": []
    },
    {
      "cell_type": "code",
      "metadata": {
        "id": "cgAfyYrLERNR",
        "colab_type": "code",
        "colab": {}
      },
      "source": [
        "allsentences = [\"Joe waited for the train train\", \n",
        "                \"The train was late\", \n",
        "                \"Mary and Samantha took the bus\",\n",
        "                \"I looked for Mary and Samantha at the bus station\",\n",
        "                \"Mary and Samantha arrived at the bus station early but waited until noon for the bus\"]"
      ],
      "execution_count": 0,
      "outputs": []
    },
    {
      "cell_type": "code",
      "metadata": {
        "id": "SEPQFRW1EZwZ",
        "colab_type": "code",
        "outputId": "5424afad-dc72-4a71-f88c-76fa66c750c9",
        "colab": {
          "base_uri": "https://localhost:8080/",
          "height": 323
        }
      },
      "source": [
        "generate_bow(allsentences)"
      ],
      "execution_count": 0,
      "outputs": [
        {
          "output_type": "stream",
          "text": [
            "Word List for Document \n",
            "['and', 'arrived', 'at', 'bus', 'but', 'early', 'for', 'i', 'joe', 'late', 'looked', 'mary', 'noon', 'samantha', 'station', 'the', 'took', 'train', 'until', 'waited', 'was'] \n",
            "\n",
            "Joe waited for the train train\n",
            "[0. 0. 0. 0. 0. 0. 1. 0. 1. 0. 0. 0. 0. 0. 0. 0. 0. 2. 0. 1. 0.]\n",
            "\n",
            "The train was late\n",
            "[0. 0. 0. 0. 0. 0. 0. 0. 0. 1. 0. 0. 0. 0. 0. 1. 0. 1. 0. 0. 1.]\n",
            "\n",
            "Mary and Samantha took the bus\n",
            "[1. 0. 0. 1. 0. 0. 0. 0. 0. 0. 0. 1. 0. 1. 0. 0. 1. 0. 0. 0. 0.]\n",
            "\n",
            "I looked for Mary and Samantha at the bus station\n",
            "[1. 0. 1. 1. 0. 0. 1. 1. 0. 0. 1. 1. 0. 1. 1. 0. 0. 0. 0. 0. 0.]\n",
            "\n",
            "Mary and Samantha arrived at the bus station early but waited until noon for the bus\n",
            "[1. 1. 1. 2. 1. 1. 1. 0. 0. 0. 0. 1. 1. 1. 1. 0. 0. 0. 1. 1. 0.]\n",
            "\n"
          ],
          "name": "stdout"
        }
      ]
    },
    {
      "cell_type": "code",
      "metadata": {
        "id": "Quz0lgRdFKxz",
        "colab_type": "code",
        "outputId": "b15ac1c4-6476-4442-e55d-497a2f7aa443",
        "colab": {
          "base_uri": "https://localhost:8080/",
          "height": 102
        }
      },
      "source": [
        "from sklearn.feature_extraction.text import CountVectorizer\n",
        "vectorizer = CountVectorizer()\n",
        "X = vectorizer.fit_transform(allsentences)\n",
        "print(X.toarray())"
      ],
      "execution_count": 0,
      "outputs": [
        {
          "output_type": "stream",
          "text": [
            "[[0 0 0 0 0 0 1 1 0 0 0 0 0 0 1 0 2 0 1 0]\n",
            " [0 0 0 0 0 0 0 0 1 0 0 0 0 0 1 0 1 0 0 1]\n",
            " [1 0 0 1 0 0 0 0 0 0 1 0 1 0 1 1 0 0 0 0]\n",
            " [1 0 1 1 0 0 1 0 0 1 1 0 1 1 1 0 0 0 0 0]\n",
            " [1 1 1 2 1 1 1 0 0 0 1 1 1 1 2 0 0 1 1 0]]\n"
          ],
          "name": "stdout"
        }
      ]
    },
    {
      "cell_type": "markdown",
      "metadata": {
        "id": "DDS5E_xmFBZ9",
        "colab_type": "text"
      },
      "source": [
        "## Plongements de Mots (word embeddings, word2vec)\n",
        "![Texte alternatif…](https://lh4.googleusercontent.com/u3CG-wlVB5QyyRrg0_26HgCELgQLTAS6SYzygiPH7SeRQy-2B7dpZyLjX4l8Izy_XIoTPH6gvAPBNDqmx9vw8x5hYlYT9KNjFSSq5C1jfgpHyIUBEPr_mS7A9sDBHgZYGufB-PaU)\n",
        "\n",
        "- CBOW\n",
        "- skipgram\n",
        "![Texte alternatif…](https://i.imgur.com/vNYiUZi.jpg)\n",
        "- gloVe\n",
        "- FastText"
      ]
    },
    {
      "cell_type": "code",
      "metadata": {
        "id": "JUJI1yjjEejU",
        "colab_type": "code",
        "colab": {}
      },
      "source": [
        "import gensim"
      ],
      "execution_count": 0,
      "outputs": []
    },
    {
      "cell_type": "code",
      "metadata": {
        "id": "pHCO7VNUGisI",
        "colab_type": "code",
        "outputId": "053123cd-31b1-4c02-e191-15c808e8be52",
        "colab": {
          "base_uri": "https://localhost:8080/",
          "height": 54
        }
      },
      "source": [
        "#word_extraction(allsentences[0])\n",
        "splitted_sentences = list(map(word_extraction, allsentences))\n",
        "print(splitted_sentences)"
      ],
      "execution_count": 0,
      "outputs": [
        {
          "output_type": "stream",
          "text": [
            "[['joe', 'waited', 'for', 'train', 'train'], ['the', 'train', 'was', 'late'], ['mary', 'and', 'samantha', 'took', 'bus'], ['i', 'looked', 'for', 'mary', 'and', 'samantha', 'at', 'bus', 'station'], ['mary', 'and', 'samantha', 'arrived', 'at', 'bus', 'station', 'early', 'but', 'waited', 'until', 'noon', 'for', 'bus']]\n"
          ],
          "name": "stdout"
        }
      ]
    },
    {
      "cell_type": "code",
      "metadata": {
        "id": "7TFhxx4EGV52",
        "colab_type": "code",
        "outputId": "1ca8f561-7150-4c5c-e3e1-7290bb8a5481",
        "colab": {
          "base_uri": "https://localhost:8080/",
          "height": 68
        }
      },
      "source": [
        "model = gensim.models.Word2Vec(min_count=1)  # an empty model, no training\n",
        "model.build_vocab(splitted_sentences)                 # can be a non-repeatable, 1-pass generator     \n",
        "model.train(splitted_sentences, total_examples=new_model.corpus_count, epochs=new_model.iter)\n",
        "\n",
        "\n",
        "# equivalent to \n",
        "# model = gensim.models.Word2Vec(splitted_sentences, min_count=1)"
      ],
      "execution_count": 0,
      "outputs": [
        {
          "output_type": "stream",
          "text": [
            "/usr/local/lib/python3.6/dist-packages/ipykernel_launcher.py:3: DeprecationWarning: Call to deprecated `iter` (Attribute will be removed in 4.0.0, use self.epochs instead).\n",
            "  This is separate from the ipykernel package so we can avoid doing imports until\n"
          ],
          "name": "stderr"
        },
        {
          "output_type": "execute_result",
          "data": {
            "text/plain": [
              "(25, 185)"
            ]
          },
          "metadata": {
            "tags": []
          },
          "execution_count": 40
        }
      ]
    },
    {
      "cell_type": "code",
      "metadata": {
        "id": "KHr-e3gkHlvx",
        "colab_type": "code",
        "outputId": "2e39e7a7-9a30-403d-f91e-9b933339e63f",
        "colab": {
          "base_uri": "https://localhost:8080/",
          "height": 71
        }
      },
      "source": [
        "print(model)\n",
        "print(model.wv.vocab)"
      ],
      "execution_count": 0,
      "outputs": [
        {
          "output_type": "stream",
          "text": [
            "Word2Vec(vocab=21, size=100, alpha=0.025)\n",
            "{'joe': <gensim.models.keyedvectors.Vocab object at 0x7fc2766b11d0>, 'waited': <gensim.models.keyedvectors.Vocab object at 0x7fc2766b1710>, 'for': <gensim.models.keyedvectors.Vocab object at 0x7fc2766b1128>, 'train': <gensim.models.keyedvectors.Vocab object at 0x7fc2766b1e10>, 'the': <gensim.models.keyedvectors.Vocab object at 0x7fc2766b1dd8>, 'was': <gensim.models.keyedvectors.Vocab object at 0x7fc2766b1780>, 'late': <gensim.models.keyedvectors.Vocab object at 0x7fc2766b13c8>, 'mary': <gensim.models.keyedvectors.Vocab object at 0x7fc2766b15f8>, 'and': <gensim.models.keyedvectors.Vocab object at 0x7fc2766b1208>, 'samantha': <gensim.models.keyedvectors.Vocab object at 0x7fc2766b1320>, 'took': <gensim.models.keyedvectors.Vocab object at 0x7fc2766b1b70>, 'bus': <gensim.models.keyedvectors.Vocab object at 0x7fc2766b1b38>, 'i': <gensim.models.keyedvectors.Vocab object at 0x7fc2766b1a90>, 'looked': <gensim.models.keyedvectors.Vocab object at 0x7fc2766b1898>, 'at': <gensim.models.keyedvectors.Vocab object at 0x7fc2766b1668>, 'station': <gensim.models.keyedvectors.Vocab object at 0x7fc2766b1f60>, 'arrived': <gensim.models.keyedvectors.Vocab object at 0x7fc2766b1e80>, 'early': <gensim.models.keyedvectors.Vocab object at 0x7fc2766b1a20>, 'but': <gensim.models.keyedvectors.Vocab object at 0x7fc2766b1400>, 'until': <gensim.models.keyedvectors.Vocab object at 0x7fc2766b1470>, 'noon': <gensim.models.keyedvectors.Vocab object at 0x7fc2766b12e8>}\n"
          ],
          "name": "stdout"
        }
      ]
    },
    {
      "cell_type": "code",
      "metadata": {
        "id": "o69T3YK6Hp5-",
        "colab_type": "code",
        "outputId": "058b1d64-c8d4-4d12-e50e-250e47981f8f",
        "colab": {
          "base_uri": "https://localhost:8080/",
          "height": 493
        }
      },
      "source": [
        "model['samantha']"
      ],
      "execution_count": 0,
      "outputs": [
        {
          "output_type": "stream",
          "text": [
            "/usr/local/lib/python3.6/dist-packages/ipykernel_launcher.py:1: DeprecationWarning: Call to deprecated `__getitem__` (Method will be removed in 4.0.0, use self.wv.__getitem__() instead).\n",
            "  \"\"\"Entry point for launching an IPython kernel.\n"
          ],
          "name": "stderr"
        },
        {
          "output_type": "execute_result",
          "data": {
            "text/plain": [
              "array([-4.7656167e-03, -8.8466331e-04, -1.4730995e-03, -3.5601894e-03,\n",
              "        3.1270806e-03,  8.4269041e-04,  1.6370642e-03, -4.3469188e-03,\n",
              "        4.8332214e-03, -2.5110824e-03,  5.5417040e-04,  2.5224495e-03,\n",
              "        3.0295111e-03,  1.0866605e-03,  2.2785566e-03,  5.4288137e-04,\n",
              "       -4.7782795e-03,  2.7947119e-03, -3.0777738e-03,  4.8808539e-03,\n",
              "        1.5348179e-03,  1.3826316e-03,  1.7316926e-03, -3.4299132e-03,\n",
              "       -2.3213443e-03,  4.7536305e-04, -9.1163085e-05,  4.8450409e-03,\n",
              "       -1.5521178e-03,  1.2120788e-04, -2.0122346e-03,  6.7030924e-05,\n",
              "       -1.4195393e-03,  2.5640789e-03,  4.5928550e-03,  3.9391505e-04,\n",
              "       -2.2117994e-03,  8.7065942e-04,  1.1817181e-03,  1.5786480e-03,\n",
              "       -4.1620880e-03,  4.9237371e-04,  1.5251897e-04, -1.4095642e-03,\n",
              "        3.3384045e-03,  3.5702097e-03, -1.1150773e-03, -2.5228648e-03,\n",
              "       -1.6659044e-03, -3.3172175e-05,  1.5816427e-03,  4.1861408e-03,\n",
              "        1.9112240e-03, -4.4220639e-03, -3.3634126e-03, -2.1392049e-03,\n",
              "        4.8233806e-03, -1.1237728e-03,  2.0951503e-03,  2.5573743e-03,\n",
              "       -4.6392921e-03, -4.9500279e-03,  2.5753821e-03,  8.1721932e-04,\n",
              "       -4.8947507e-03,  2.9953336e-04, -2.0873733e-03,  3.1960574e-03,\n",
              "        4.4939388e-03, -8.8104146e-04,  3.5144291e-03,  3.6004821e-03,\n",
              "       -4.8638363e-03,  4.5788679e-03, -1.5086727e-03, -3.0206953e-04,\n",
              "       -2.7605831e-03,  3.4307481e-03, -3.2868676e-03,  1.7021905e-03,\n",
              "        4.4968515e-03, -1.8954638e-03, -6.5219798e-04,  7.2224980e-04,\n",
              "       -4.2113024e-03,  2.3602359e-03,  2.4127511e-03,  4.5787832e-03,\n",
              "        4.9845194e-03,  1.8791058e-04,  4.8604337e-03, -4.4079204e-03,\n",
              "        2.8570235e-04,  1.1762276e-03,  1.8201255e-03,  3.3968773e-03,\n",
              "       -1.7371498e-03,  4.3624723e-03,  2.1731851e-03, -1.6335285e-03],\n",
              "      dtype=float32)"
            ]
          },
          "metadata": {
            "tags": []
          },
          "execution_count": 47
        }
      ]
    },
    {
      "cell_type": "code",
      "metadata": {
        "id": "BrQz01esJ-q4",
        "colab_type": "code",
        "colab": {}
      },
      "source": [
        "from sklearn.manifold import TSNE\n",
        "import matplotlib.pyplot as plt\n",
        "%matplotlib inline"
      ],
      "execution_count": 0,
      "outputs": []
    },
    {
      "cell_type": "code",
      "metadata": {
        "id": "BVlrC_UjJFtq",
        "colab_type": "code",
        "colab": {}
      },
      "source": [
        "def tsne_plot(model):\n",
        "    \"Creates and TSNE model and plots it\"\n",
        "    labels = []\n",
        "    tokens = []\n",
        "\n",
        "    for word in model.wv.vocab:\n",
        "        tokens.append(model[word])\n",
        "        labels.append(word)\n",
        "    \n",
        "    tsne_model = TSNE(perplexity=40, n_components=2, init='pca', n_iter=2500, random_state=23)\n",
        "    new_values = tsne_model.fit_transform(tokens)\n",
        "\n",
        "    x = []\n",
        "    y = []\n",
        "    for value in new_values:\n",
        "        x.append(value[0])\n",
        "        y.append(value[1])\n",
        "        \n",
        "    plt.figure(figsize=(16, 16)) \n",
        "    for i in range(len(x)):\n",
        "        plt.scatter(x[i],y[i])\n",
        "        plt.annotate(labels[i],\n",
        "                     xy=(x[i], y[i]),\n",
        "                     xytext=(5, 2),\n",
        "                     textcoords='offset points',\n",
        "                     ha='right',\n",
        "                     va='bottom')\n",
        "    plt.show()"
      ],
      "execution_count": 0,
      "outputs": []
    },
    {
      "cell_type": "code",
      "metadata": {
        "id": "6QLHAz3lJz_r",
        "colab_type": "code",
        "outputId": "be5d2cd8-8e6c-4b20-8305-bc720285f919",
        "colab": {
          "base_uri": "https://localhost:8080/",
          "height": 989
        }
      },
      "source": [
        "tsne_plot(model)"
      ],
      "execution_count": 0,
      "outputs": [
        {
          "output_type": "stream",
          "text": [
            "/usr/local/lib/python3.6/dist-packages/ipykernel_launcher.py:7: DeprecationWarning:\n",
            "\n",
            "Call to deprecated `__getitem__` (Method will be removed in 4.0.0, use self.wv.__getitem__() instead).\n",
            "\n"
          ],
          "name": "stderr"
        },
        {
          "output_type": "display_data",
          "data": {
            "image/png": "[encoded data removed]",
            "text/plain": [
              "<Figure size 1152x1152 with 1 Axes>"
            ]
          },
          "metadata": {
            "tags": []
          }
        }
      ]
    },
    {
      "cell_type": "markdown",
      "metadata": {
        "id": "ExxDrUgoKkm_",
        "colab_type": "text"
      },
      "source": [
        "[gensim word2vec](https://github.com/RaRe-Technologies/gensim/blob/develop/docs/notebooks/word2vec.ipynb)"
      ]
    }
  ]
}