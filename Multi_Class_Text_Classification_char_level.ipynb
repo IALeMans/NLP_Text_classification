{
  "nbformat": 4,
  "nbformat_minor": 0,
  "metadata": {
    "colab": {
      "name": "Multi-Class Text Classification char_level.ipynb",
      "version": "0.3.2",
      "provenance": []
    },
    "kernelspec": {
      "name": "python3",
      "display_name": "Python 3"
    },
    "accelerator": "GPU"
  },
  "cells": [
    {
      "cell_type": "code",
      "metadata": {
        "id": "tfBDtKxef4Nw",
        "colab_type": "code",
        "colab": {
          "base_uri": "https://localhost:8080/",
          "height": 34
        },
        "outputId": "2335545f-80d4-4134-95e5-c6d970e191bc"
      },
      "source": [
        "import numpy as np\n",
        "import pandas as pd\n",
        "import re\n",
        "from keras.preprocessing.text import Tokenizer\n",
        "from keras.preprocessing.sequence import pad_sequences\n",
        "\n",
        "from keras.layers import Input, Embedding, Activation, Flatten, Dense\n",
        "from keras.layers import Conv1D, MaxPooling1D, Dropout\n",
        "from keras.models import Model\n",
        "\n",
        "from sklearn.model_selection import train_test_split\n",
        "from sklearn import metrics\n",
        "from sklearn.metrics import classification_report, confusion_matrix\n",
        "\n",
        "import matplotlib.pyplot as plt\n",
        "import seaborn as sn\n",
        "\n",
        "pd.set_option('display.max_columns', 500)"
      ],
      "execution_count": 1,
      "outputs": [
        {
          "output_type": "stream",
          "text": [
            "Using TensorFlow backend.\n"
          ],
          "name": "stderr"
        }
      ]
    },
    {
      "cell_type": "code",
      "metadata": {
        "id": "x3hA59aEmV0_",
        "colab_type": "code",
        "outputId": "5bcec876-c1a1-4e96-e727-67dd39cee92b",
        "colab": {
          "base_uri": "https://localhost:8080/",
          "height": 851
        }
      },
      "source": [
        "import nltk\n",
        "nltk.download(\"popular\")\n",
        "from nltk.corpus import stopwords\n",
        "from bs4 import BeautifulSoup"
      ],
      "execution_count": 2,
      "outputs": [
        {
          "output_type": "stream",
          "text": [
            "[nltk_data] Downloading collection 'popular'\n",
            "[nltk_data]    | \n",
            "[nltk_data]    | Downloading package cmudict to /root/nltk_data...\n",
            "[nltk_data]    |   Package cmudict is already up-to-date!\n",
            "[nltk_data]    | Downloading package gazetteers to /root/nltk_data...\n",
            "[nltk_data]    |   Package gazetteers is already up-to-date!\n",
            "[nltk_data]    | Downloading package genesis to /root/nltk_data...\n",
            "[nltk_data]    |   Package genesis is already up-to-date!\n",
            "[nltk_data]    | Downloading package gutenberg to /root/nltk_data...\n",
            "[nltk_data]    |   Package gutenberg is already up-to-date!\n",
            "[nltk_data]    | Downloading package inaugural to /root/nltk_data...\n",
            "[nltk_data]    |   Package inaugural is already up-to-date!\n",
            "[nltk_data]    | Downloading package movie_reviews to\n",
            "[nltk_data]    |     /root/nltk_data...\n",
            "[nltk_data]    |   Package movie_reviews is already up-to-date!\n",
            "[nltk_data]    | Downloading package names to /root/nltk_data...\n",
            "[nltk_data]    |   Package names is already up-to-date!\n",
            "[nltk_data]    | Downloading package shakespeare to /root/nltk_data...\n",
            "[nltk_data]    |   Package shakespeare is already up-to-date!\n",
            "[nltk_data]    | Downloading package stopwords to /root/nltk_data...\n",
            "[nltk_data]    |   Package stopwords is already up-to-date!\n",
            "[nltk_data]    | Downloading package treebank to /root/nltk_data...\n",
            "[nltk_data]    |   Package treebank is already up-to-date!\n",
            "[nltk_data]    | Downloading package twitter_samples to\n",
            "[nltk_data]    |     /root/nltk_data...\n",
            "[nltk_data]    |   Package twitter_samples is already up-to-date!\n",
            "[nltk_data]    | Downloading package omw to /root/nltk_data...\n",
            "[nltk_data]    |   Package omw is already up-to-date!\n",
            "[nltk_data]    | Downloading package wordnet to /root/nltk_data...\n",
            "[nltk_data]    |   Package wordnet is already up-to-date!\n",
            "[nltk_data]    | Downloading package wordnet_ic to /root/nltk_data...\n",
            "[nltk_data]    |   Package wordnet_ic is already up-to-date!\n",
            "[nltk_data]    | Downloading package words to /root/nltk_data...\n",
            "[nltk_data]    |   Package words is already up-to-date!\n",
            "[nltk_data]    | Downloading package maxent_ne_chunker to\n",
            "[nltk_data]    |     /root/nltk_data...\n",
            "[nltk_data]    |   Package maxent_ne_chunker is already up-to-date!\n",
            "[nltk_data]    | Downloading package punkt to /root/nltk_data...\n",
            "[nltk_data]    |   Package punkt is already up-to-date!\n",
            "[nltk_data]    | Downloading package snowball_data to\n",
            "[nltk_data]    |     /root/nltk_data...\n",
            "[nltk_data]    |   Package snowball_data is already up-to-date!\n",
            "[nltk_data]    | Downloading package averaged_perceptron_tagger to\n",
            "[nltk_data]    |     /root/nltk_data...\n",
            "[nltk_data]    |   Package averaged_perceptron_tagger is already up-\n",
            "[nltk_data]    |       to-date!\n",
            "[nltk_data]    | \n",
            "[nltk_data]  Done downloading collection popular\n"
          ],
          "name": "stdout"
        }
      ]
    },
    {
      "cell_type": "code",
      "metadata": {
        "id": "z47QSLm5Vn6h",
        "colab_type": "code",
        "outputId": "c1f784b0-199a-4fb3-c1a1-3540e0f9fdcd",
        "colab": {
          "base_uri": "https://localhost:8080/",
          "height": 208
        }
      },
      "source": [
        "df = pd.read_csv('https://storage.googleapis.com/tensorflow-workshop-examples/stack-overflow-data.csv')\n",
        "df = df[pd.notnull(df['tags'])]\n",
        "print(df.head(10))"
      ],
      "execution_count": 3,
      "outputs": [
        {
          "output_type": "stream",
          "text": [
            "                                                post           tags\n",
            "0  what is causing this behavior  in our c# datet...             c#\n",
            "1  have dynamic html load as if it was in an ifra...        asp.net\n",
            "2  how to convert a float value in to min:sec  i ...    objective-c\n",
            "3  .net framework 4 redistributable  just wonderi...           .net\n",
            "4  trying to calculate and print the mean and its...         python\n",
            "5  how to give alias name for my website  i have ...        asp.net\n",
            "6  window.open() returns null in angularjs  it wo...      angularjs\n",
            "7  identifying server timeout quickly in iphone  ...         iphone\n",
            "8  unknown method key  error in rails 2.3.8 unit ...  ruby-on-rails\n",
            "9  from the include  how to show and hide the con...      angularjs\n"
          ],
          "name": "stdout"
        }
      ]
    },
    {
      "cell_type": "code",
      "metadata": {
        "id": "UmZ8Zm_Rlx0p",
        "colab_type": "code",
        "colab": {}
      },
      "source": [
        "REPLACE_BY_SPACE_RE = re.compile('[/(){}\\[\\]\\|@,;]')\n",
        "BAD_SYMBOLS_RE = re.compile('[^0-9a-z #+_]')\n",
        "STOPWORDS = set(stopwords.words('english'))\n",
        "\n",
        "def clean_text(text):\n",
        "    \"\"\"\n",
        "        text: a string\n",
        "        \n",
        "        return: modified initial string\n",
        "    \"\"\"\n",
        "    text = BeautifulSoup(text, \"lxml\").text # HTML decoding\n",
        "    text = text.lower() # lowercase text\n",
        "    text = REPLACE_BY_SPACE_RE.sub(' ', text) # replace REPLACE_BY_SPACE_RE symbols by space in text\n",
        "    text = BAD_SYMBOLS_RE.sub('', text) # delete symbols which are in BAD_SYMBOLS_RE from text\n",
        "    text = ' '.join(word for word in text.split() if word not in STOPWORDS) # delete stopwors from text\n",
        "    return text\n",
        "    \n",
        "df['post'] = df['post'].apply(clean_text)"
      ],
      "execution_count": 0,
      "outputs": []
    },
    {
      "cell_type": "code",
      "metadata": {
        "id": "PgSIlhBDm-zJ",
        "colab_type": "code",
        "outputId": "1c65c170-fbd6-417d-cdaa-b895fd8b6619",
        "colab": {
          "base_uri": "https://localhost:8080/",
          "height": 208
        }
      },
      "source": [
        "print(df.head(10))"
      ],
      "execution_count": 5,
      "outputs": [
        {
          "output_type": "stream",
          "text": [
            "                                                post           tags\n",
            "0  causing behavior c# datetime type test public ...             c#\n",
            "1  dynamic html load iframe aspnet 40 site users ...        asp.net\n",
            "2  convert float value minsec trying convert seco...    objective-c\n",
            "3  net framework 4 redistributable wondering get ...           .net\n",
            "4  trying calculate print mean returning rather n...         python\n",
            "5  give alias name website deployed aspnet site o...        asp.net\n",
            "6  windowopen returns null angularjs works simple...      angularjs\n",
            "7  identifying server timeout quickly iphone conn...         iphone\n",
            "8  unknown method key error rails 238 unit testin...  ruby-on-rails\n",
            "9  include show hide content according requiremen...      angularjs\n"
          ],
          "name": "stdout"
        }
      ]
    },
    {
      "cell_type": "code",
      "metadata": {
        "id": "WFo9UtBD7lE4",
        "colab_type": "code",
        "colab": {
          "base_uri": "https://localhost:8080/",
          "height": 612
        },
        "outputId": "508f17bb-832f-4961-ca88-b25d5b702b1b"
      },
      "source": [
        "df['post_len'] = df.post.apply(len)\n",
        "df.post_len.hist(bins=100,figsize=(30,10))\n"
      ],
      "execution_count": 6,
      "outputs": [
        {
          "output_type": "execute_result",
          "data": {
            "text/plain": [
              "<matplotlib.axes._subplots.AxesSubplot at 0x7fa048d0a6d8>"
            ]
          },
          "metadata": {
            "tags": []
          },
          "execution_count": 6
        },
        {
          "output_type": "display_data",
          "data": {
            "image/png": "[encoded data removed]",
            "text/plain": [
              "<Figure size 2160x720 with 1 Axes>"
            ]
          },
          "metadata": {
            "tags": []
          }
        }
      ]
    },
    {
      "cell_type": "code",
      "metadata": {
        "id": "XjLbnEBIy8kt",
        "colab_type": "code",
        "colab": {
          "base_uri": "https://localhost:8080/",
          "height": 1042
        },
        "outputId": "12ea3d1d-bcbf-4bdf-c0de-4daa62692dc1"
      },
      "source": [
        "df = df.drop(['post_len'],axis=1)\n",
        "df = pd.get_dummies(df, columns=[\"tags\"])\n",
        "print(df.head(10))"
      ],
      "execution_count": 7,
      "outputs": [
        {
          "output_type": "stream",
          "text": [
            "                                                post  tags_.net  tags_android  \\\n",
            "0  causing behavior c# datetime type test public ...          0             0   \n",
            "1  dynamic html load iframe aspnet 40 site users ...          0             0   \n",
            "2  convert float value minsec trying convert seco...          0             0   \n",
            "3  net framework 4 redistributable wondering get ...          1             0   \n",
            "4  trying calculate print mean returning rather n...          0             0   \n",
            "5  give alias name website deployed aspnet site o...          0             0   \n",
            "6  windowopen returns null angularjs works simple...          0             0   \n",
            "7  identifying server timeout quickly iphone conn...          0             0   \n",
            "8  unknown method key error rails 238 unit testin...          0             0   \n",
            "9  include show hide content according requiremen...          0             0   \n",
            "\n",
            "   tags_angularjs  tags_asp.net  tags_c  tags_c#  tags_c++  tags_css  \\\n",
            "0               0             0       0        1         0         0   \n",
            "1               0             1       0        0         0         0   \n",
            "2               0             0       0        0         0         0   \n",
            "3               0             0       0        0         0         0   \n",
            "4               0             0       0        0         0         0   \n",
            "5               0             1       0        0         0         0   \n",
            "6               1             0       0        0         0         0   \n",
            "7               0             0       0        0         0         0   \n",
            "8               0             0       0        0         0         0   \n",
            "9               1             0       0        0         0         0   \n",
            "\n",
            "   tags_html  tags_ios  tags_iphone  tags_java  tags_javascript  tags_jquery  \\\n",
            "0          0         0            0          0                0            0   \n",
            "1          0         0            0          0                0            0   \n",
            "2          0         0            0          0                0            0   \n",
            "3          0         0            0          0                0            0   \n",
            "4          0         0            0          0                0            0   \n",
            "5          0         0            0          0                0            0   \n",
            "6          0         0            0          0                0            0   \n",
            "7          0         0            1          0                0            0   \n",
            "8          0         0            0          0                0            0   \n",
            "9          0         0            0          0                0            0   \n",
            "\n",
            "   tags_mysql  tags_objective-c  tags_php  tags_python  tags_ruby-on-rails  \\\n",
            "0           0                 0         0            0                   0   \n",
            "1           0                 0         0            0                   0   \n",
            "2           0                 1         0            0                   0   \n",
            "3           0                 0         0            0                   0   \n",
            "4           0                 0         0            1                   0   \n",
            "5           0                 0         0            0                   0   \n",
            "6           0                 0         0            0                   0   \n",
            "7           0                 0         0            0                   0   \n",
            "8           0                 0         0            0                   1   \n",
            "9           0                 0         0            0                   0   \n",
            "\n",
            "   tags_sql  \n",
            "0         0  \n",
            "1         0  \n",
            "2         0  \n",
            "3         0  \n",
            "4         0  \n",
            "5         0  \n",
            "6         0  \n",
            "7         0  \n",
            "8         0  \n",
            "9         0  \n"
          ],
          "name": "stdout"
        }
      ]
    },
    {
      "cell_type": "code",
      "metadata": {
        "id": "1Lw5ZB9esdbc",
        "colab_type": "code",
        "colab": {}
      },
      "source": [
        "df_train, df_test = train_test_split(df, test_size=0.2)\n",
        "\n",
        "train_texts = df_train.post.values\n",
        "test_texts = df_test.post.values"
      ],
      "execution_count": 0,
      "outputs": []
    },
    {
      "cell_type": "code",
      "metadata": {
        "id": "rn6b5ypAp6VK",
        "colab_type": "code",
        "outputId": "f40d6303-503a-434d-bab3-0c17c434e357",
        "colab": {
          "base_uri": "https://localhost:8080/",
          "height": 34
        }
      },
      "source": [
        "#train_texts = [s.lower() for s in train_texts]\n",
        "#test_texts = [s.lower() for s in test_texts]\n",
        "print(len(df_train), len(df_test), len(train_texts), len(test_texts))"
      ],
      "execution_count": 9,
      "outputs": [
        {
          "output_type": "stream",
          "text": [
            "32000 8000 32000 8000\n"
          ],
          "name": "stdout"
        }
      ]
    },
    {
      "cell_type": "code",
      "metadata": {
        "id": "aEme8g0VqClL",
        "colab_type": "code",
        "colab": {}
      },
      "source": [
        "# Tokenizer\n",
        "tk = Tokenizer(num_words=None, char_level=True, oov_token=' ')\n",
        "tk.fit_on_texts(train_texts)"
      ],
      "execution_count": 0,
      "outputs": []
    },
    {
      "cell_type": "code",
      "metadata": {
        "id": "2ynaVH_KqGts",
        "colab_type": "code",
        "colab": {}
      },
      "source": [
        "# construct a new vocabulary\n",
        "alphabet = \"abcdefghijklmnopqrstuvwxyz0123456789,;.!?:'\\\"/\\\\|_@#$%^&*~`+-=<>()[]{}\"\n",
        "char_dict = {}\n",
        "for i, char in enumerate(alphabet):\n",
        "    char_dict[char] = i + 1\n",
        "\n",
        "# Use char_dict to replace the tk.word_index\n",
        "tk.word_index = char_dict.copy()\n",
        "# Add 'UNK' to the vocabulary\n",
        "tk.word_index[tk.oov_token] = max(char_dict.values()) + 1"
      ],
      "execution_count": 0,
      "outputs": []
    },
    {
      "cell_type": "code",
      "metadata": {
        "id": "e1UgWzCIqfvq",
        "colab_type": "code",
        "colab": {}
      },
      "source": [
        "# Convert string to index\n",
        "train_sequences = tk.texts_to_sequences(train_texts)\n",
        "test_sequences = tk.texts_to_sequences(test_texts)"
      ],
      "execution_count": 0,
      "outputs": []
    },
    {
      "cell_type": "code",
      "metadata": {
        "id": "4LQxr8LAqmUO",
        "colab_type": "code",
        "outputId": "28ab22da-bb85-4502-eb9c-2d979691c8d9",
        "colab": {
          "base_uri": "https://localhost:8080/",
          "height": 298
        }
      },
      "source": [
        "for i in range(5):\n",
        "    print(train_sequences[i])\n",
        "    print(train_texts[i])\n",
        "    print(len(train_texts[i]))"
      ],
      "execution_count": 13,
      "outputs": [
        {
          "output_type": "stream",
          "text": [
            "[16, 25, 20, 8, 15, 14, 69, 6, 9, 12, 5, 19, 69, 18, 21, 14, 69, 6, 9, 14, 5, 69, 5, 24, 5, 3, 21, 20, 5, 4, 69, 4, 9, 6, 6, 5, 18, 5, 14, 20, 69, 4, 9, 18, 5, 3, 20, 15, 18, 25, 69, 23, 9, 5, 18, 4, 69, 16, 18, 15, 2, 12, 5, 13, 69, 18, 21, 14, 69, 6, 9, 12, 5, 69, 4, 9, 6, 6, 5, 18, 5, 14, 20, 69, 4, 9, 18, 5, 3, 20, 15, 18, 25, 69, 18, 21, 14, 19, 69, 6, 9, 14, 5, 69, 23, 9, 19, 5, 69, 7, 5, 20, 69, 5, 18, 18, 15, 18, 69, 20, 5, 24, 20, 16, 18, 15, 3, 5, 19, 19, 15, 18, 69, 9, 13, 16, 15, 18, 20, 69, 6, 9, 12, 5, 69, 8, 15, 13, 5, 69, 13, 15, 8, 9, 20, 69, 4, 15, 3, 21, 13, 5, 14, 20, 19, 69, 1, 14, 1, 12, 25, 19, 9, 19, 69, 3, 1, 20, 5, 7, 15, 18, 9, 26, 1, 20, 9, 15, 14, 69, 20, 5, 24, 20, 16, 18, 15, 3, 5, 19, 19, 15, 18, 16, 25, 69, 12, 9, 14, 5, 69, 29, 69, 13, 15, 4, 21, 12, 5, 69, 9, 13, 16, 15, 18, 20, 69, 14, 12, 20, 11, 69, 6, 9, 12, 5, 69, 21, 19, 18, 69, 12, 15, 3, 1, 12, 69, 12, 9, 2, 69, 16, 25, 20, 8, 15, 14, 29, 34, 69, 4, 9, 19, 20, 16, 1, 3, 11, 1, 7, 5, 19, 69, 14, 12, 20, 11, 69, 48, 48, 9, 14, 9, 20, 48, 48, 16, 25, 69, 12, 9, 14, 5, 69, 28, 27, 28, 69, 13, 15, 4, 21, 12, 5, 69, 9, 13, 16, 15, 18, 20, 69, 3, 3, 7, 69, 6, 9, 12, 5, 69, 21, 19, 18, 69, 12, 15, 3, 1, 12, 69, 12, 9, 2, 69, 16, 25, 20, 8, 15, 14, 29, 34, 69, 4, 9, 19, 20, 16, 1, 3, 11, 1, 7, 5, 19, 69, 14, 12, 20, 11, 69, 3, 3, 7, 69, 48, 48, 9, 14, 9, 20, 48, 48, 16, 25, 69, 12, 9, 14, 5, 69, 28, 32, 69, 13, 15, 4, 21, 12, 5, 69, 3, 8, 1, 18, 20, 69, 9, 13, 16, 15, 18, 20, 69, 6, 9, 12, 5, 69, 21, 19, 18, 69, 12, 15, 3, 1, 12, 69, 12, 9, 2, 69, 16, 25, 20, 8, 15, 14, 29, 34, 69, 4, 9, 19, 20, 16, 1, 3, 11, 1, 7, 5, 19, 69, 14, 12, 20, 11, 69, 3, 3, 7, 69, 3, 8, 1, 18, 20, 16, 25, 69, 12, 9, 14, 5, 69, 30, 30, 69, 13, 15, 4, 21, 12, 5, 69, 14, 12, 20, 11, 16, 1, 18, 19, 5, 1, 16, 9, 69, 9, 13, 16, 15, 18, 20, 69, 6, 9, 12, 5, 69, 21, 19, 18, 69, 12, 15, 3, 1, 12, 69, 12, 9, 2, 69, 16, 25, 20, 8, 15, 14, 29, 34, 69, 4, 9, 19, 20, 16, 1, 3, 11, 1, 7, 5, 19, 69, 14, 12, 20, 11, 69, 16, 1, 18, 19, 5, 69, 48, 48, 9, 14, 9, 20, 48, 48, 16, 25, 69, 12, 9, 14, 5, 69, 31, 33, 69, 13, 15, 4, 21, 12, 5, 69, 6, 5, 1, 20, 21, 18, 5, 3, 8, 1, 18, 20, 69, 9, 13, 16, 15, 18, 20, 69, 6, 9, 12, 5, 69, 21, 19, 18, 69, 12, 15, 3, 1, 12, 69, 12, 9, 2, 69, 16, 25, 20, 8, 15, 14, 29, 34, 69, 4, 9, 19, 20, 16, 1, 3, 11, 1, 7, 5, 19, 69, 14, 12, 20, 11, 69, 16, 1, 18, 19, 5, 69, 6, 5, 1, 20, 21, 18, 5, 3, 8, 1, 18, 20, 16, 25, 69, 12, 9, 14, 5, 69, 29, 31, 69, 13, 15, 4, 21, 12, 5, 69, 9, 13, 16, 15, 18, 20, 69, 14, 12, 20, 11, 4, 1, 20, 1, 69, 6, 9, 12, 5, 69, 21, 19, 18, 69, 12, 15, 3, 1, 12, 69, 12, 9, 2, 69, 16, 25, 20, 8, 15, 14, 29, 34, 69, 4, 9, 19, 20, 16, 1, 3, 11, 1, 7, 5, 19, 69, 14, 12, 20, 11, 69, 4, 1, 20, 1, 16, 25, 69, 12, 9, 14, 5, 69, 31, 28, 69, 13, 15, 4, 21, 12, 5, 69, 9, 13, 16, 15, 18, 20, 69, 26, 9, 16, 6, 9, 12, 5, 69, 6, 9, 12, 5, 69, 21, 19, 18, 69, 12, 9, 2, 69, 16, 25, 20, 8, 15, 14, 29, 34, 69, 26, 9, 16, 6, 9, 12, 5, 16, 25, 69, 12, 9, 14, 5, 69, 31, 33, 27, 69, 13, 15, 4, 21, 12, 5, 69, 3, 12, 1, 19, 19, 69, 26, 9, 16, 5, 24, 20, 6, 9, 12, 5, 69, 9, 15, 2, 21, 6, 6, 5, 18, 5, 4, 9, 15, 2, 1, 19, 5, 69, 1, 20, 20, 18, 9, 2, 21, 20, 5, 5, 18, 18, 15, 18, 69, 13, 15, 4, 21, 12, 5, 69, 15, 2, 10, 5, 3, 20, 69, 1, 20, 20, 18, 9, 2, 21, 20, 5, 69, 2, 21, 6, 6, 5, 18, 5, 4, 9, 15, 2, 1, 19, 5, 69, 20, 18, 25, 9, 14, 69, 9, 13, 16, 15, 18, 20, 69, 14, 12, 20, 11, 69, 13, 15, 4, 21, 12, 5]\n",
            "python files run fine executed different directory wierd problem run file different directory runs fine wise get error textprocessor import file home mohit documents analysis categorization textprocessorpy line 2 module import nltk file usr local lib python27 distpackages nltk __init__py line 101 module import ccg file usr local lib python27 distpackages nltk ccg __init__py line 15 module chart import file usr local lib python27 distpackages nltk ccg chartpy line 33 module nltkparseapi import file usr local lib python27 distpackages nltk parse __init__py line 46 module featurechart import file usr local lib python27 distpackages nltk parse featurechartpy line 24 module import nltkdata file usr local lib python27 distpackages nltk datapy line 41 module import zipfile file usr lib python27 zipfilepy line 460 module class zipextfile iobufferediobase attributeerror module object attribute bufferediobase tryin import nltk module\n",
            "937\n",
            "[19, 3, 18, 15, 12, 12, 9, 14, 7, 69, 22, 5, 18, 20, 9, 3, 1, 12, 12, 25, 69, 21, 19, 9, 14, 7, 69, 6, 15, 12, 12, 15, 23, 9, 14, 7, 69, 3, 15, 4, 5, 69, 19, 3, 18, 15, 12, 12, 69, 9, 13, 1, 7, 5, 69, 19, 3, 18, 15, 15, 12, 12, 69, 22, 9, 5, 23, 69, 19, 20, 15, 18, 25, 22, 9, 5, 23, 19, 3, 18, 15, 12, 12, 5, 18, 69, 21, 9, 19, 3, 18, 15, 12, 12, 22, 9, 5, 23, 69, 1, 12, 12, 15, 3, 69, 9, 14, 9, 20, 23, 9, 20, 8, 6, 18, 1, 13, 5, 3, 7, 18, 5, 3, 20, 13, 1, 11, 5, 69, 27, 27, 6, 69, 34, 36, 27, 6, 69, 30, 29, 27, 27, 6, 69, 29, 33, 29, 69, 1, 21, 20, 15, 18, 5, 12, 5, 1, 19, 5, 69, 19, 20, 15, 18, 25, 22, 9, 5, 23, 19, 3, 18, 15, 12, 12, 5, 18, 3, 15, 14, 20, 5, 14, 20, 19, 9, 26, 5, 69, 3, 7, 19, 9, 26, 5, 13, 1, 11, 5, 69, 14, 16, 1, 7, 5, 19, 69, 30, 29, 27, 27, 6, 69, 19, 20, 15, 18, 25, 22, 9, 5, 23, 19, 3, 18, 15, 12, 12, 5, 18, 6, 18, 1, 13, 5, 19, 9, 26, 5, 8, 5, 9, 7, 8, 20, 69, 19, 20, 15, 18, 25, 22, 9, 5, 23, 19, 3, 18, 15, 12, 12, 5, 18, 16, 1, 7, 9, 14, 7, 5, 14, 1, 2, 12, 5, 4, 69, 25, 5, 19, 69, 19, 20, 15, 18, 25, 22, 9, 5, 23, 19, 3, 18, 15, 12, 12, 5, 18, 4, 5, 12, 5, 7, 1, 20, 5, 69, 19, 5, 12, 6, 69, 19, 20, 15, 18, 25, 22, 9, 5, 23, 19, 3, 18, 15, 12, 12, 5, 18, 19, 8, 15, 23, 19, 8, 15, 18, 9, 26, 15, 14, 20, 1, 12, 19, 3, 18, 15, 12, 12, 9, 14, 4, 9, 3, 1, 20, 15, 18, 69, 19, 20, 15, 18, 25, 22, 9, 5, 23, 19, 3, 18, 15, 12, 12, 5, 18, 19, 3, 18, 15, 12, 12, 19, 20, 15, 20, 15, 16, 69, 25, 5, 19, 69, 12, 15, 1, 4, 69, 16, 1, 7, 5, 19, 69, 27, 69, 14, 16, 1, 7, 5, 19, 69, 9, 58, 58, 69, 14, 19, 19, 20, 18, 9, 14, 7, 69, 6, 9, 12, 5, 14, 1, 13, 5, 69, 14, 19, 19, 20, 18, 9, 14, 7, 69, 19, 20, 18, 9, 14, 7, 23, 9, 20, 8, 6, 15, 18, 13, 1, 20, 69, 4, 10, 16, 7, 69, 9, 58, 28, 69, 21, 9, 9, 13, 1, 7, 5, 22, 9, 5, 23, 69, 9, 22, 69, 21, 9, 9, 13, 1, 7, 5, 22, 9, 5, 23, 69, 1, 12, 12, 15, 3, 69, 9, 14, 9, 20, 23, 9, 20, 8, 9, 13, 1, 7, 5, 69, 21, 9, 9, 13, 1, 7, 5, 69, 9, 13, 1, 7, 5, 14, 1, 13, 5, 4, 6, 9, 12, 5, 14, 1, 13, 5, 69, 9, 22, 6, 18, 1, 13, 5, 69, 3, 7, 18, 5, 3, 20, 13, 1, 11, 5, 69, 30, 29, 27, 27, 6, 69, 27, 27, 6, 69, 30, 29, 27, 27, 6, 69, 29, 33, 29, 69, 19, 20, 15, 18, 25, 22, 9, 5, 23, 19, 3, 18, 15, 12, 12, 5, 18, 69, 1, 4, 4, 19, 21, 2, 22, 9, 5, 23, 9, 22, 69, 14, 19, 12, 15, 7, 69, 9, 22, 69, 18, 5, 12, 5, 1, 19, 5, 69, 19, 5, 12, 6, 22, 9, 5, 23, 69, 1, 4, 4, 19, 21, 2, 22, 9, 5, 23, 19, 20, 15, 18, 25, 22, 9, 5, 23, 19, 3, 18, 15, 12, 12, 5, 18, 69, 5, 14, 1, 2, 12, 5, 69, 13, 5, 9, 14, 69, 20, 15, 19, 69, 19, 3, 18, 15, 12, 12, 69, 22, 9, 5, 23, 69, 12, 5, 6, 20, 69, 18, 9, 7, 8, 20, 69, 22, 9, 3, 5, 69, 22, 5, 18, 19, 1, 23, 8, 1, 20, 69, 3, 8, 1, 14, 7, 5, 69, 19, 18, 15, 12, 12, 69, 22, 9, 5, 23, 69, 20, 15, 16, 69, 2, 15, 20, 20, 15, 13, 69, 22, 9, 3, 5, 69, 22, 5, 18, 19, 1, 69, 19, 21, 7, 7, 7, 5, 19, 20, 9, 15, 14, 19, 69, 18, 5, 7, 1, 18, 4, 19]\n",
            "scrolling vertically using following code scroll image scrooll view storyviewscroller uiscrollview alloc initwithframecgrectmake 00f 790f 3200f 262 autorelease storyviewscrollercontentsize cgsizemake npages 3200f storyviewscrollerframesizeheight storyviewscrollerpagingenabled yes storyviewscrollerdelegate self storyviewscrollershowshorizontalscrollindicator storyviewscrollerscrollstotop yes load pages 0 npages i++ nsstring filename nsstring stringwithformat djpg i+1 uiimageview iv uiimageview alloc initwithimage uiimage imagenamedfilename ivframe cgrectmake 3200f 00f 3200f 262 storyviewscroller addsubviewiv nslog iv release selfview addsubviewstoryviewscroller enable mein tos scroll view left right vice versawhat change sroll view top bottom vice versa sugggestions regards\n",
            "783\n",
            "[18, 5, 13, 15, 22, 5, 69, 3, 19, 19, 69, 3, 8, 9, 12, 4, 69, 3, 12, 1, 19, 19, 69, 16, 1, 18, 5, 14, 20, 69, 3, 12, 1, 19, 19, 69, 8, 20, 13, 12, 69, 4, 9, 22, 69, 3, 12, 1, 19, 19, 69, 16, 1, 18, 5, 14, 20, 69, 4, 9, 22, 69, 3, 12, 1, 19, 19, 69, 3, 8, 9, 12, 4, 69, 4, 9, 22, 69, 4, 9, 22, 69, 4, 9, 22, 69, 3, 12, 1, 19, 19, 69, 3, 8, 9, 12, 4, 69, 4, 9, 22, 69, 3, 19, 19, 69, 3, 8, 9, 12, 4, 69, 23, 9, 4, 20, 8, 29, 16, 24, 69, 8, 5, 9, 7, 8, 20, 30, 16, 24, 69, 16, 1, 18, 5, 14, 20, 69, 3, 8, 9, 12, 4, 69, 3, 15, 12, 15, 18, 2, 12, 21, 5, 69, 23, 1, 14, 20, 69, 18, 5, 13, 15, 22, 5, 69, 19, 20, 25, 12, 5, 69, 3, 8, 9, 12, 4, 69, 3, 12, 1, 19, 19, 69, 9, 14, 3, 12, 21, 4, 5, 69, 16, 1, 18, 5, 14, 20, 69, 3, 19, 19, 69, 9, 5, 69, 21, 19, 5, 69, 16, 1, 18, 5, 14, 20, 69, 3, 8, 9, 12, 4, 69, 23, 9, 4, 20, 8, 69, 8, 5, 9, 7, 8, 20, 69, 19, 20, 25, 12, 5, 69, 3, 8, 9, 12, 4, 69, 9, 5, 69, 19, 20, 25, 12, 5, 69, 3, 8, 9, 12, 4, 69, 18, 5, 13, 15, 22, 5, 4, 69, 21, 19, 5, 4, 69, 1, 12, 15, 14, 7, 69, 16, 1, 18, 5, 14, 20, 8, 15, 23]\n",
            "remove css child class parent class html div class parent div class child div div div class child div css child width2px height3px parent child colorblue want remove style child class include parent css ie use parent child width height style child ie style child removed used along parenthow\n",
            "291\n",
            "[2, 5, 19, 20, 69, 23, 1, 25, 69, 19, 5, 18, 9, 1, 12, 9, 26, 5, 69, 14, 1, 20, 9, 22, 5, 69, 3, 69, 1, 18, 18, 1, 25, 69, 3, 21, 18, 18, 5, 14, 20, 12, 25, 69, 21, 19, 9, 14, 7, 69, 14, 19, 3, 15, 4, 9, 14, 7, 69, 19, 5, 18, 9, 1, 12, 9, 26, 5, 69, 20, 18, 5, 5, 69, 15, 2, 10, 5, 3, 20, 19, 69, 28, 69, 3, 15, 14, 20, 1, 9, 14, 19, 69, 4, 1, 20, 1, 69, 13, 5, 13, 2, 5, 18, 69, 14, 1, 20, 9, 22, 5, 69, 3, 69, 6, 12, 15, 1, 20, 69, 1, 18, 18, 1, 25, 69, 28, 69, 27, 27, 27, 69, 27, 27, 27, 69, 5, 14, 20, 18, 9, 5, 19, 69, 15, 18, 4, 5, 18, 69, 19, 5, 18, 9, 1, 12, 9, 26, 5, 69, 21, 19, 9, 14, 7, 69, 5, 14, 3, 15, 4, 5, 6, 12, 15, 1, 20, 6, 15, 18, 11, 5, 25, 69, 1, 18, 18, 1, 25, 69, 5, 14, 20, 18, 25, 69, 14, 5, 5, 4, 69, 1, 16, 16, 12, 25, 69, 28, 69, 27, 27, 27, 69, 27, 27, 27, 69, 21, 19, 5, 12, 5, 19, 19, 69, 11, 5, 25, 19, 69, 13, 9, 7, 8, 20, 69, 19, 12, 15, 23, 69, 16, 18, 5, 6, 5, 18, 5, 4, 69, 23, 1, 25, 69, 8, 1, 14, 4, 12, 5]\n",
            "best way serialize native c array currently using nscoding serialize tree objects 1 contains data member native c float array 1 000 000 entries order serialize using encodefloatforkey array entry need apply 1 000 000 useless keys might slow prefered way handle\n",
            "260\n",
            "[13, 1, 18, 11, 5, 20, 69, 19, 8, 1, 18, 5, 69, 22, 1, 18, 9, 15, 21, 19, 69, 14, 5, 20, 69, 6, 18, 1, 13, 5, 23, 15, 18, 11, 69, 22, 5, 18, 19, 9, 15, 14, 19, 69, 1, 14, 25, 15, 14, 5, 69, 11, 14, 15, 23, 69, 19, 20, 1, 20, 19, 69, 3, 15, 12, 12, 5, 3, 20, 5, 4, 69, 5, 24, 9, 19, 20, 69, 1, 14, 25, 23, 8, 5, 18, 5, 69, 1, 14, 5, 3, 4, 15, 20, 1, 12, 69, 5, 22, 9, 4, 5, 14, 3, 5, 69, 12, 5, 1, 19, 20, 69, 19, 12, 9, 7, 8, 20, 12, 25, 69, 8, 5, 12, 16, 6, 21, 12]\n",
            "market share various net framework versions anyone know stats collected exist anywhere anecdotal evidence least slightly helpful\n",
            "128\n"
          ],
          "name": "stdout"
        }
      ]
    },
    {
      "cell_type": "code",
      "metadata": {
        "id": "WENcBqMNqtGE",
        "colab_type": "code",
        "colab": {}
      },
      "source": [
        "# Padding\n",
        "# Because text have different length, we have to make all text as the same length, so the CNN can handle the batch data.\n",
        "padding_size = 3000\n",
        "train_data = pad_sequences(train_sequences, maxlen=padding_size, padding='post')\n",
        "test_data = pad_sequences(test_sequences, maxlen=padding_size, padding='post')"
      ],
      "execution_count": 0,
      "outputs": []
    },
    {
      "cell_type": "code",
      "metadata": {
        "id": "DkIZi9t0qzDY",
        "colab_type": "code",
        "outputId": "874a8e9b-d018-43fb-b16c-ffa20a57854f",
        "colab": {
          "base_uri": "https://localhost:8080/",
          "height": 52
        }
      },
      "source": [
        "train_data = np.array(train_data, dtype='float32')\n",
        "test_data = np.array(test_data, dtype='float32')\n",
        "\n",
        "print(train_data[0])\n",
        "print(train_data.shape, test_data.shape)"
      ],
      "execution_count": 15,
      "outputs": [
        {
          "output_type": "stream",
          "text": [
            "[16. 25. 20. ...  0.  0.  0.]\n",
            "(32000, 3000) (8000, 3000)\n"
          ],
          "name": "stdout"
        }
      ]
    },
    {
      "cell_type": "code",
      "metadata": {
        "id": "Ku9v4LOYq75f",
        "colab_type": "code",
        "outputId": "d650be48-8591-4331-a015-894a5daabfb0",
        "colab": {
          "base_uri": "https://localhost:8080/",
          "height": 121
        }
      },
      "source": [
        "# Get Classes\n",
        "classes_cols = df_train.drop(['post'],axis=1).columns\n",
        "\n",
        "print(classes_cols)\n",
        "train_classes = df_train[classes_cols].values\n",
        "test_classes  = df_test[classes_cols].values"
      ],
      "execution_count": 16,
      "outputs": [
        {
          "output_type": "stream",
          "text": [
            "Index(['tags_.net', 'tags_android', 'tags_angularjs', 'tags_asp.net', 'tags_c',\n",
            "       'tags_c#', 'tags_c++', 'tags_css', 'tags_html', 'tags_ios',\n",
            "       'tags_iphone', 'tags_java', 'tags_javascript', 'tags_jquery',\n",
            "       'tags_mysql', 'tags_objective-c', 'tags_php', 'tags_python',\n",
            "       'tags_ruby-on-rails', 'tags_sql'],\n",
            "      dtype='object')\n"
          ],
          "name": "stdout"
        }
      ]
    },
    {
      "cell_type": "code",
      "metadata": {
        "id": "jFcb1VO3r7DC",
        "colab_type": "code",
        "colab": {}
      },
      "source": [
        "# Shuffle\n",
        "indices = np.arange(train_data.shape[0])\n",
        "np.random.shuffle(indices)\n",
        "\n",
        "x_train = train_data[indices]\n",
        "y_train = train_classes[indices]\n",
        "\n",
        "x_test = test_data\n",
        "y_test = test_classes"
      ],
      "execution_count": 0,
      "outputs": []
    },
    {
      "cell_type": "code",
      "metadata": {
        "id": "j1pdDR1dsWpd",
        "colab_type": "code",
        "outputId": "f1db6acc-6b7e-4157-ac54-f5d69ccae752",
        "colab": {
          "base_uri": "https://localhost:8080/",
          "height": 208
        }
      },
      "source": [
        "print(len(x_train),len(y_train),len(x_test),len(y_test))\n",
        "print(x_train[:5])\n",
        "print(y_train[:5])"
      ],
      "execution_count": 18,
      "outputs": [
        {
          "output_type": "stream",
          "text": [
            "32000 32000 8000 8000\n",
            "[[ 3. 15. 21. ...  0.  0.  0.]\n",
            " [ 5. 24. 20. ...  0.  0.  0.]\n",
            " [ 3. 58. 58. ...  0.  0.  0.]\n",
            " [20.  5. 12. ...  0.  0.  0.]\n",
            " [14.  5. 20. ...  0.  0.  0.]]\n",
            "[[0 0 0 0 0 0 0 0 0 0 0 0 0 0 1 0 0 0 0 0]\n",
            " [0 0 0 0 0 0 0 0 0 0 0 0 0 1 0 0 0 0 0 0]\n",
            " [0 0 0 0 0 0 1 0 0 0 0 0 0 0 0 0 0 0 0 0]\n",
            " [0 1 0 0 0 0 0 0 0 0 0 0 0 0 0 0 0 0 0 0]\n",
            " [1 0 0 0 0 0 0 0 0 0 0 0 0 0 0 0 0 0 0 0]]\n"
          ],
          "name": "stdout"
        }
      ]
    },
    {
      "cell_type": "code",
      "metadata": {
        "id": "CmXoI67ZsZ4o",
        "colab_type": "code",
        "colab": {}
      },
      "source": [
        "input_size = padding_size\n",
        "vocab_size = len(tk.word_index)\n",
        "embedding_size = 69\n",
        "conv_layers = [[256, 7, 3],\n",
        "               [256, 7, 3],\n",
        "               #[256, 3, -1],\n",
        "               [256, 3, -1],\n",
        "               [256, 3, -1],\n",
        "               [256, 3, 3]]\n",
        "\n",
        "fully_connected_layers = [1024, 1024]\n",
        "fully_connected_layers = [200, 100]\n",
        "num_of_classes = len(classes_cols)\n",
        "dropout_p = 0.2\n",
        "optimizer = 'adam'     #!!! tf.keras.optimizers.Adam(lr=1e-3)\n",
        "loss = 'categorical_crossentropy'"
      ],
      "execution_count": 0,
      "outputs": []
    },
    {
      "cell_type": "code",
      "metadata": {
        "id": "QxzuVzqYtBPz",
        "colab_type": "code",
        "outputId": "6b7fe6f5-0f46-4d39-ea01-ec1f12880b07",
        "colab": {
          "base_uri": "https://localhost:8080/",
          "height": 34
        }
      },
      "source": [
        "# Embedding weights\n",
        "embedding_weights = []  # (70, 69) \n",
        "embedding_weights.append(np.zeros(vocab_size))  # (0, 69)\n",
        "\n",
        "for char, i in tk.word_index.items():  # from index 1 to 69\n",
        "    onehot = np.zeros(vocab_size)\n",
        "    onehot[i - 1] = 1\n",
        "    embedding_weights.append(onehot)\n",
        "\n",
        "embedding_weights = np.array(embedding_weights)\n",
        "print(embedding_weights.shape)"
      ],
      "execution_count": 20,
      "outputs": [
        {
          "output_type": "stream",
          "text": [
            "(70, 69)\n"
          ],
          "name": "stdout"
        }
      ]
    },
    {
      "cell_type": "code",
      "metadata": {
        "id": "ZzbkK9_atScQ",
        "colab_type": "code",
        "colab": {}
      },
      "source": [
        "# Embedding layer Initialization\n",
        "embedding_layer = Embedding(vocab_size + 1,\n",
        "                            embedding_size,\n",
        "                            input_length=input_size,\n",
        "weights=[embedding_weights])"
      ],
      "execution_count": 0,
      "outputs": []
    },
    {
      "cell_type": "code",
      "metadata": {
        "id": "Cn943LXotegJ",
        "colab_type": "code",
        "outputId": "15b2cb16-ae3b-496f-b220-b0854978141d",
        "colab": {
          "base_uri": "https://localhost:8080/",
          "height": 1166
        }
      },
      "source": [
        "# Model Construction\n",
        "\n",
        "# Input\n",
        "inputs = Input(shape=(input_size,), name='input', dtype='int64')  # shape=(?, 1014)\n",
        "\n",
        "# Embedding\n",
        "x = embedding_layer(inputs)\n",
        "\n",
        "# Conv\n",
        "for filter_num, filter_size, pooling_size in conv_layers:\n",
        "    print('conv_layers ',filter_num, filter_size, pooling_size)\n",
        "    x = Conv1D(filter_num, filter_size)(x)\n",
        "    x = Activation('relu')(x)\n",
        "    if pooling_size != -1:\n",
        "        x = MaxPooling1D(pool_size=pooling_size)(x)  # Final shape=(None, 34, 256)\n",
        "    print(x.shape)\n",
        "x = Flatten()(x)  # (None, 8704)\n",
        "\n",
        "# Fully connected layers\n",
        "for dense_size in fully_connected_layers:\n",
        "    x = Dense(dense_size, activation='relu')(x)  # dense_size == 1024\n",
        "    x = Dropout(dropout_p)(x)\n",
        "\n",
        "# Output Layer\n",
        "predictions = Dense(num_of_classes, activation='softmax')(x)\n",
        "\n",
        "# Build model\n",
        "model = Model(inputs=inputs, outputs=predictions)\n",
        "model.compile(optimizer=optimizer, loss=loss, metrics=['accuracy'])  # Adam, categorical_crossentropy\n",
        "model.summary()"
      ],
      "execution_count": 22,
      "outputs": [
        {
          "output_type": "stream",
          "text": [
            "WARNING:tensorflow:From /usr/local/lib/python3.6/dist-packages/tensorflow/python/framework/op_def_library.py:263: colocate_with (from tensorflow.python.framework.ops) is deprecated and will be removed in a future version.\n",
            "Instructions for updating:\n",
            "Colocations handled automatically by placer.\n",
            "conv_layers  256 7 3\n",
            "(?, 998, 256)\n",
            "conv_layers  256 7 3\n",
            "(?, 330, 256)\n",
            "conv_layers  256 3 -1\n",
            "(?, 328, 256)\n",
            "conv_layers  256 3 -1\n",
            "(?, 326, 256)\n",
            "conv_layers  256 3 3\n",
            "(?, 108, 256)\n",
            "WARNING:tensorflow:From /usr/local/lib/python3.6/dist-packages/keras/backend/tensorflow_backend.py:3445: calling dropout (from tensorflow.python.ops.nn_ops) with keep_prob is deprecated and will be removed in a future version.\n",
            "Instructions for updating:\n",
            "Please use `rate` instead of `keep_prob`. Rate should be set to `rate = 1 - keep_prob`.\n",
            "_________________________________________________________________\n",
            "Layer (type)                 Output Shape              Param #   \n",
            "=================================================================\n",
            "input (InputLayer)           (None, 3000)              0         \n",
            "_________________________________________________________________\n",
            "embedding_1 (Embedding)      (None, 3000, 69)          4830      \n",
            "_________________________________________________________________\n",
            "conv1d_1 (Conv1D)            (None, 2994, 256)         123904    \n",
            "_________________________________________________________________\n",
            "activation_1 (Activation)    (None, 2994, 256)         0         \n",
            "_________________________________________________________________\n",
            "max_pooling1d_1 (MaxPooling1 (None, 998, 256)          0         \n",
            "_________________________________________________________________\n",
            "conv1d_2 (Conv1D)            (None, 992, 256)          459008    \n",
            "_________________________________________________________________\n",
            "activation_2 (Activation)    (None, 992, 256)          0         \n",
            "_________________________________________________________________\n",
            "max_pooling1d_2 (MaxPooling1 (None, 330, 256)          0         \n",
            "_________________________________________________________________\n",
            "conv1d_3 (Conv1D)            (None, 328, 256)          196864    \n",
            "_________________________________________________________________\n",
            "activation_3 (Activation)    (None, 328, 256)          0         \n",
            "_________________________________________________________________\n",
            "conv1d_4 (Conv1D)            (None, 326, 256)          196864    \n",
            "_________________________________________________________________\n",
            "activation_4 (Activation)    (None, 326, 256)          0         \n",
            "_________________________________________________________________\n",
            "conv1d_5 (Conv1D)            (None, 324, 256)          196864    \n",
            "_________________________________________________________________\n",
            "activation_5 (Activation)    (None, 324, 256)          0         \n",
            "_________________________________________________________________\n",
            "max_pooling1d_3 (MaxPooling1 (None, 108, 256)          0         \n",
            "_________________________________________________________________\n",
            "flatten_1 (Flatten)          (None, 27648)             0         \n",
            "_________________________________________________________________\n",
            "dense_1 (Dense)              (None, 200)               5529800   \n",
            "_________________________________________________________________\n",
            "dropout_1 (Dropout)          (None, 200)               0         \n",
            "_________________________________________________________________\n",
            "dense_2 (Dense)              (None, 100)               20100     \n",
            "_________________________________________________________________\n",
            "dropout_2 (Dropout)          (None, 100)               0         \n",
            "_________________________________________________________________\n",
            "dense_3 (Dense)              (None, 20)                2020      \n",
            "=================================================================\n",
            "Total params: 6,730,254\n",
            "Trainable params: 6,730,254\n",
            "Non-trainable params: 0\n",
            "_________________________________________________________________\n"
          ],
          "name": "stdout"
        }
      ]
    },
    {
      "cell_type": "code",
      "metadata": {
        "id": "8c3OPlXHtjqI",
        "colab_type": "code",
        "outputId": "e731afa9-473e-4780-a1d8-b4ee8ddba9c6",
        "colab": {
          "base_uri": "https://localhost:8080/",
          "height": 278
        }
      },
      "source": [
        "# Training\n",
        "model.fit(x_train, y_train,\n",
        "          validation_data=(x_test, y_test),\n",
        "          batch_size=512,\n",
        "          epochs=5,\n",
        "          verbose=2)"
      ],
      "execution_count": 23,
      "outputs": [
        {
          "output_type": "stream",
          "text": [
            "WARNING:tensorflow:From /usr/local/lib/python3.6/dist-packages/tensorflow/python/ops/math_ops.py:3066: to_int32 (from tensorflow.python.ops.math_ops) is deprecated and will be removed in a future version.\n",
            "Instructions for updating:\n",
            "Use tf.cast instead.\n",
            "Train on 32000 samples, validate on 8000 samples\n",
            "Epoch 1/5\n",
            " - 72s - loss: 2.9780 - acc: 0.0666 - val_loss: 2.9419 - val_acc: 0.0787\n",
            "Epoch 2/5\n",
            " - 60s - loss: 2.7964 - acc: 0.0979 - val_loss: 2.5653 - val_acc: 0.1329\n",
            "Epoch 3/5\n",
            " - 59s - loss: 2.4860 - acc: 0.1636 - val_loss: 2.2942 - val_acc: 0.2456\n",
            "Epoch 4/5\n",
            " - 59s - loss: 2.1980 - acc: 0.2609 - val_loss: 2.0004 - val_acc: 0.3389\n",
            "Epoch 5/5\n",
            " - 59s - loss: 1.8380 - acc: 0.3845 - val_loss: 1.6183 - val_acc: 0.4741\n"
          ],
          "name": "stdout"
        },
        {
          "output_type": "execute_result",
          "data": {
            "text/plain": [
              "<keras.callbacks.History at 0x7fa045b92748>"
            ]
          },
          "metadata": {
            "tags": []
          },
          "execution_count": 23
        }
      ]
    },
    {
      "cell_type": "code",
      "metadata": {
        "id": "U_PCcFRO2cqF",
        "colab_type": "code",
        "colab": {
          "base_uri": "https://localhost:8080/",
          "height": 225
        },
        "outputId": "e742cadf-f8a8-46d9-eb52-c4840698c756"
      },
      "source": [
        "# Training\n",
        "model.fit(x_train, y_train,\n",
        "          validation_data=(x_test, y_test),\n",
        "          batch_size=512,\n",
        "          epochs=5,\n",
        "          verbose=2)"
      ],
      "execution_count": 24,
      "outputs": [
        {
          "output_type": "stream",
          "text": [
            "Train on 32000 samples, validate on 8000 samples\n",
            "Epoch 1/5\n",
            " - 59s - loss: 1.4813 - acc: 0.5059 - val_loss: 1.2825 - val_acc: 0.5911\n",
            "Epoch 2/5\n",
            " - 60s - loss: 1.1188 - acc: 0.6293 - val_loss: 1.0653 - val_acc: 0.6592\n",
            "Epoch 3/5\n",
            " - 59s - loss: 0.9056 - acc: 0.6995 - val_loss: 1.0015 - val_acc: 0.6850\n",
            "Epoch 4/5\n",
            " - 59s - loss: 0.7293 - acc: 0.7495 - val_loss: 1.0304 - val_acc: 0.6954\n",
            "Epoch 5/5\n",
            " - 59s - loss: 0.6192 - acc: 0.7862 - val_loss: 0.9892 - val_acc: 0.7132\n"
          ],
          "name": "stdout"
        },
        {
          "output_type": "execute_result",
          "data": {
            "text/plain": [
              "<keras.callbacks.History at 0x7fa045b926a0>"
            ]
          },
          "metadata": {
            "tags": []
          },
          "execution_count": 24
        }
      ]
    },
    {
      "cell_type": "code",
      "metadata": {
        "id": "CJSWvVpVtzO-",
        "colab_type": "code",
        "outputId": "e632d104-5f05-4028-bd5f-64ac03ef21f2",
        "colab": {
          "base_uri": "https://localhost:8080/",
          "height": 52
        }
      },
      "source": [
        "# evaluate accuracy\n",
        "test_loss, test_acc = model.evaluate(x_test, y_test)\n",
        "\n",
        "print('Test accuracy:', test_acc)"
      ],
      "execution_count": 25,
      "outputs": [
        {
          "output_type": "stream",
          "text": [
            "8000/8000 [==============================] - 6s 733us/step\n",
            "Test accuracy: 0.71325\n"
          ],
          "name": "stdout"
        }
      ]
    },
    {
      "cell_type": "code",
      "metadata": {
        "id": "TdGcf-7P8BFh",
        "colab_type": "code",
        "colab": {}
      },
      "source": [
        "y_preds=model.predict(x_test)"
      ],
      "execution_count": 0,
      "outputs": []
    },
    {
      "cell_type": "code",
      "metadata": {
        "id": "RIzqSzdY8E6A",
        "colab_type": "code",
        "outputId": "6a432522-8851-42b1-b01b-198048f5b81f",
        "colab": {
          "base_uri": "https://localhost:8080/",
          "height": 104
        }
      },
      "source": [
        "print(y_preds[0])\n",
        "print(y_test[0])"
      ],
      "execution_count": 27,
      "outputs": [
        {
          "output_type": "stream",
          "text": [
            "[2.8239876e-02 2.3600880e-02 9.8299084e-04 8.7031621e-01 5.2688183e-06\n",
            " 2.7832338e-03 6.6826597e-06 1.6961078e-03 4.9438313e-02 3.1276688e-03\n",
            " 1.6166024e-03 5.2152574e-04 8.6554801e-03 3.8658038e-03 1.3731125e-05\n",
            " 2.5748991e-04 9.4797864e-04 5.1814764e-06 3.9126226e-03 6.2698800e-06]\n",
            "[0 0 0 1 0 0 0 0 0 0 0 0 0 0 0 0 0 0 0 0]\n"
          ],
          "name": "stdout"
        }
      ]
    },
    {
      "cell_type": "code",
      "metadata": {
        "id": "KigT70Qd5Jh9",
        "colab_type": "code",
        "colab": {}
      },
      "source": [
        "y_pred = np.argmax(y_preds, axis=1)\n",
        "y_test = np.argmax(y_test, axis=1)"
      ],
      "execution_count": 0,
      "outputs": []
    },
    {
      "cell_type": "code",
      "metadata": {
        "id": "nBht3efS73Hr",
        "colab_type": "code",
        "colab": {
          "base_uri": "https://localhost:8080/",
          "height": 52
        },
        "outputId": "315328b6-1058-480a-ad7b-362aa307577f"
      },
      "source": [
        "print(y_pred[:10])\n",
        "print(y_test[:10])"
      ],
      "execution_count": 29,
      "outputs": [
        {
          "output_type": "stream",
          "text": [
            "[ 3  4  3  5 14 17 12  9  2  0]\n",
            "[ 3  4 12  3 14 17 12 19  2  0]\n"
          ],
          "name": "stdout"
        }
      ]
    },
    {
      "cell_type": "code",
      "metadata": {
        "id": "jYywV7zC0LN-",
        "colab_type": "code",
        "colab": {
          "base_uri": "https://localhost:8080/",
          "height": 503
        },
        "outputId": "2721c0e4-fcab-490f-8dac-7144263d7cdc"
      },
      "source": [
        "from sklearn.metrics import classification_report\n",
        "from sklearn.metrics import accuracy_score, confusion_matrix\n",
        "\n",
        "print('accuracy %s' % accuracy_score(y_pred, y_test))\n",
        "print(classification_report(y_test, y_pred,target_names=classes_cols))\n"
      ],
      "execution_count": 30,
      "outputs": [
        {
          "output_type": "stream",
          "text": [
            "accuracy 0.71325\n",
            "                    precision    recall  f1-score   support\n",
            "\n",
            "         tags_.net       0.42      0.44      0.43       410\n",
            "      tags_android       0.93      0.86      0.89       430\n",
            "    tags_angularjs       0.98      0.96      0.97       415\n",
            "      tags_asp.net       0.37      0.66      0.48       391\n",
            "            tags_c       0.92      0.72      0.81       367\n",
            "           tags_c#       0.59      0.50      0.54       425\n",
            "          tags_c++       0.81      0.77      0.79       419\n",
            "          tags_css       0.78      0.76      0.77       390\n",
            "         tags_html       0.49      0.59      0.54       363\n",
            "          tags_ios       0.47      0.64      0.55       411\n",
            "       tags_iphone       0.71      0.42      0.53       427\n",
            "         tags_java       0.89      0.79      0.84       406\n",
            "   tags_javascript       0.71      0.75      0.73       384\n",
            "       tags_jquery       0.81      0.85      0.83       411\n",
            "        tags_mysql       0.91      0.67      0.77       373\n",
            "  tags_objective-c       0.71      0.62      0.66       345\n",
            "          tags_php       0.72      0.76      0.74       370\n",
            "       tags_python       0.87      0.85      0.86       420\n",
            "tags_ruby-on-rails       0.92      0.78      0.85       430\n",
            "          tags_sql       0.75      0.84      0.79       413\n",
            "\n",
            "          accuracy                           0.71      8000\n",
            "         macro avg       0.74      0.71      0.72      8000\n",
            "      weighted avg       0.74      0.71      0.72      8000\n",
            "\n"
          ],
          "name": "stdout"
        }
      ]
    },
    {
      "cell_type": "code",
      "metadata": {
        "id": "hygMMVxsL_Jd",
        "colab_type": "code",
        "colab": {
          "base_uri": "https://localhost:8080/",
          "height": 104
        },
        "outputId": "1039b519-4c88-4485-ff01-0ed09413e545"
      },
      "source": [
        "classes_cols.values"
      ],
      "execution_count": 41,
      "outputs": [
        {
          "output_type": "execute_result",
          "data": {
            "text/plain": [
              "array(['tags_.net', 'tags_android', 'tags_angularjs', 'tags_asp.net',\n",
              "       'tags_c', 'tags_c#', 'tags_c++', 'tags_css', 'tags_html',\n",
              "       'tags_ios', 'tags_iphone', 'tags_java', 'tags_javascript',\n",
              "       'tags_jquery', 'tags_mysql', 'tags_objective-c', 'tags_php',\n",
              "       'tags_python', 'tags_ruby-on-rails', 'tags_sql'], dtype=object)"
            ]
          },
          "metadata": {
            "tags": []
          },
          "execution_count": 41
        }
      ]
    },
    {
      "cell_type": "code",
      "metadata": {
        "id": "jt11WLiJKeL_",
        "colab_type": "code",
        "colab": {
          "base_uri": "https://localhost:8080/",
          "height": 686
        },
        "outputId": "14345a86-414b-4da5-8765-ff7b72f73830"
      },
      "source": [
        "df_cm = pd.DataFrame(confusion_matrix(y_test,y_pred),index=classes_cols.values, columns=classes_cols.values)\n",
        "plt.figure(figsize = (20,10))\n",
        "sn.set(font_scale=0.8)#for label size\n",
        "sn.heatmap(df_cm, annot=True,annot_kws={\"size\": 8})# font size"
      ],
      "execution_count": 45,
      "outputs": [
        {
          "output_type": "execute_result",
          "data": {
            "text/plain": [
              "<matplotlib.axes._subplots.AxesSubplot at 0x7f9d2d10ec18>"
            ]
          },
          "metadata": {
            "tags": []
          },
          "execution_count": 45
        },
        {
          "output_type": "display_data",
          "data": {
            "image/png": "[encoded data removed]",
            "text/plain": [
              "<Figure size 1440x720 with 2 Axes>"
            ]
          },
          "metadata": {
            "tags": []
          }
        }
      ]
    },
    {
      "cell_type": "code",
      "metadata": {
        "id": "Sduglcz9KxdW",
        "colab_type": "code",
        "colab": {}
      },
      "source": [
        ""
      ],
      "execution_count": 0,
      "outputs": []
    }
  ]
}